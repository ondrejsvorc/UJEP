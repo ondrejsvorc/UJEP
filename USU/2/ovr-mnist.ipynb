{
 "cells": [
  {
   "cell_type": "code",
   "execution_count": 33,
   "metadata": {
    "executionInfo": {
     "elapsed": 10,
     "status": "ok",
     "timestamp": 1741788450633,
     "user": {
      "displayName": "Petr Kubera",
      "userId": "15227890022249397995"
     },
     "user_tz": -60
    },
    "id": "5h9_SuBrxvfi"
   },
   "outputs": [],
   "source": [
    "import numpy as np\n",
    "import numpy.linalg as la # pro vypocet normy\n",
    "import scipy.optimize as optimize # pro vypocet minima kriterialni funkce\n",
    "\n",
    "class naivni_logisticka_regrese_binarni:\n",
    "  def __init__(self):\n",
    "    self._w = None\n",
    "    self._X = None\n",
    "    self._y = None\n",
    "    self._regularization=False\n",
    "    self._c=0.01\n",
    "\n",
    "  def sigmoida(self, w, X):\n",
    "    \"\"\"\n",
    "    Pomocna metoda pro vypocet sigmoidy\n",
    "    \"\"\"\n",
    "    return 1.0/(1.0+np.exp(-X @ w))\n",
    "\n",
    "\n",
    "  def kriterialni_funkce_bez_regularizace(self, w):\n",
    "    \"\"\"\n",
    "    Minimalizovana funkce\n",
    "    \"\"\"\n",
    "    #return la.norm(self._y-self.sigmoida(w, self._X))\n",
    "    return -(self._y.T @ np.log(self.sigmoida(w, self._X)+1e-10) + (1-self._y).T @ np.log(1-self.sigmoida(w, self._X)+1e-10)) # TODO regulariyace\n",
    "\n",
    "  def kriterialni_funkce_s_regularizaci(self, w):\n",
    "    \"\"\"\n",
    "    Minimalizovana funkce:\n",
    "    \"\"\"\n",
    "    return self.kriterialni_funkce_bez_regularizace(w)+self._c*np.sum(w**2)\n",
    "\n",
    "  def fit(self, X,y, c = 0.001, regularization=False):\n",
    "    \"\"\"\n",
    "    Nauceni modelu. Pro uceni je vyuzita knihovna scipy a nastroje pro\n",
    "    optimalizaci v ni obsazene.\n",
    "    \"\"\"\n",
    "    self._regularization=regularization\n",
    "    self._c=c\n",
    "    dimenze = X.shape[1]+1\n",
    "    radky = X.shape[0]\n",
    "    # priprav si data - pridani sloupce se jednickami, pro bias\n",
    "    self._X = np.hstack((np.ones((radky,1)), X)) # pridej jednicky\n",
    "    self._y = y\n",
    "    # je pouzita iteracni metoda optimalizace, nahodne je zvolena nulta iterace\n",
    "    w0 = np.random.randn(dimenze) # nahodny bod\n",
    "    self._w=w0\n",
    "    print(f\"Pocatecni hodnota krit. fce {self.kriterialni_funkce_bez_regularizace(w0)}\")\n",
    "    #print(f\"Pocatecni hodnota vah w={w0}\")\n",
    "    if self._regularization:\n",
    "      res = optimize.minimize(self.kriterialni_funkce_s_regularizaci, w0, method='BFGS', tol=1e-8)\n",
    "    else:\n",
    "      res = optimize.minimize(self.kriterialni_funkce_bez_regularizace, w0, method='BFGS', tol=1e-8)\n",
    "    #res = optimize.minimize(self.kriterialni_funkce, w0, method='BFGS', tol=1e-5)\n",
    "    self._w = res.x\n",
    "    print(f\"Konecna hodnota krit. fce {self.kriterialni_funkce_bez_regularizace(self._w)}\")\n",
    "    #print(f\"Konecna hodnota vah w={self._w}\")\n",
    "    return self._w\n",
    "\n",
    "  def predict_proba(self, X):\n",
    "    \"\"\"\n",
    "    Vypocet pravdepodobnosti prislusnosti ke tride\n",
    "    \"\"\"\n",
    "    return self.sigmoida(self._w, np.hstack((np.ones((X.shape[0],1)), X)))\n",
    "\n",
    "  def predict(self, X, hranice=0.5):\n",
    "    \"\"\"\n",
    "    Predikce konkretni tridy na zaklade pravdepodobnosti.\n",
    "    \"\"\"\n",
    "    pravdepodobnost = self.predict_proba( X)\n",
    "    return  1* (pravdepodobnost > hranice)\n"
   ]
  },
  {
   "cell_type": "code",
   "execution_count": null,
   "metadata": {
    "executionInfo": {
     "elapsed": 138,
     "status": "ok",
     "timestamp": 1741788450773,
     "user": {
      "displayName": "Petr Kubera",
      "userId": "15227890022249397995"
     },
     "user_tz": -60
    },
    "id": "jpc4ki6IlCS6"
   },
   "outputs": [],
   "source": [
    "class ovr_classifier:\n",
    "  def __init__(self):\n",
    "    self._models=[]\n",
    "    self._classes=[]\n",
    "\n",
    "  def fit(self, X, y, c=0.01, regularization=True):\n",
    "    self._classes=np.unique(y)\n",
    "    for cls in self._classes:\n",
    "      classifier = naivni_logisticka_regrese_binarni()\n",
    "      ycls=1*(y==cls)\n",
    "      classifier.fit(X,ycls,c=c,regularization=regularization)\n",
    "      self._models.append(classifier)\n",
    "\n",
    "  def predict(self, X):\n",
    "    predictions=np.array([ model.predict_proba(X) for model in self._models])\n",
    "    return self._classes[np.argmax(predictions, axis=0)]"
   ]
  },
  {
   "cell_type": "code",
   "execution_count": null,
   "metadata": {
    "colab": {
     "base_uri": "https://localhost:8080/"
    },
    "executionInfo": {
     "elapsed": 95,
     "status": "ok",
     "timestamp": 1741788450774,
     "user": {
      "displayName": "Petr Kubera",
      "userId": "15227890022249397995"
     },
     "user_tz": -60
    },
    "id": "Wg47BgPlncb3",
    "outputId": "54b83483-cb5c-4365-84bf-490124edb125"
   },
   "outputs": [
    {
     "name": "stdout",
     "output_type": "stream",
     "text": [
      "Pocet vzorku 1797\n"
     ]
    }
   ],
   "source": [
    "from sklearn import datasets, metrics\n",
    "from sklearn.model_selection import train_test_split\n",
    "\n",
    "digits = datasets.load_digits()\n",
    "n_samples = len(digits.images)\n",
    "print(f\"Pocet vzorku {n_samples}\")\n",
    "data = digits.images.reshape((n_samples, -1))/255 # reshape a normalizuj\n",
    "X_train, X_test, y_train, y_test = train_test_split(data, digits.target, test_size=0.2, shuffle=False)"
   ]
  },
  {
   "cell_type": "code",
   "execution_count": 36,
   "metadata": {
    "colab": {
     "base_uri": "https://localhost:8080/"
    },
    "executionInfo": {
     "elapsed": 38081,
     "status": "ok",
     "timestamp": 1741788488827,
     "user": {
      "displayName": "Petr Kubera",
      "userId": "15227890022249397995"
     },
     "user_tz": -60
    },
    "id": "ro0miwMjoJvv",
    "outputId": "55d471b8-6645-4aa6-a99e-13810bfdb21f"
   },
   "outputs": [
    {
     "name": "stdout",
     "output_type": "stream",
     "text": [
      "Pocatecni hodnota krit. fce 497.4744440275854\n",
      "Konecna hodnota krit. fce 42.73406279859293\n",
      "Pocatecni hodnota krit. fce 663.1228177548011\n",
      "Konecna hodnota krit. fce 109.32189645192022\n",
      "Pocatecni hodnota krit. fce 1993.2137801090748\n",
      "Konecna hodnota krit. fce 72.91606311830785\n",
      "Pocatecni hodnota krit. fce 1008.0660979317767\n",
      "Konecna hodnota krit. fce 88.18138548324711\n",
      "Pocatecni hodnota krit. fce 963.65669305202\n",
      "Konecna hodnota krit. fce 54.290739285039336\n",
      "Pocatecni hodnota krit. fce 549.7598198770563\n",
      "Konecna hodnota krit. fce 77.2172847562239\n",
      "Pocatecni hodnota krit. fce 583.0478048640689\n",
      "Konecna hodnota krit. fce 56.43763428024769\n",
      "Pocatecni hodnota krit. fce 2223.245170816135\n",
      "Konecna hodnota krit. fce 64.22284904157752\n",
      "Pocatecni hodnota krit. fce 1177.1352973261623\n",
      "Konecna hodnota krit. fce 162.25858691572358\n",
      "Pocatecni hodnota krit. fce 1270.1690769446793\n",
      "Konecna hodnota krit. fce 115.04121040056219\n"
     ]
    }
   ],
   "source": [
    "ovr = ovr_classifier()\n",
    "ovr.fit(X_train, y_train, c=0.01, regularization=True)\n",
    "y_pred = ovr.predict(X_test)"
   ]
  },
  {
   "cell_type": "code",
   "execution_count": 38,
   "metadata": {
    "colab": {
     "base_uri": "https://localhost:8080/"
    },
    "executionInfo": {
     "elapsed": 2,
     "status": "ok",
     "timestamp": 1741788488837,
     "user": {
      "displayName": "Petr Kubera",
      "userId": "15227890022249397995"
     },
     "user_tz": -60
    },
    "id": "JqsqRipUoqrn",
    "outputId": "95c628dc-ea55-43ba-8bec-0d4710934f4e"
   },
   "outputs": [
    {
     "name": "stdout",
     "output_type": "stream",
     "text": [
      "LOG-REG:              precision    recall  f1-score   support\n",
      "\n",
      "           0       0.97      0.97      0.97        35\n",
      "           1       0.78      0.69      0.74        36\n",
      "           2       1.00      1.00      1.00        35\n",
      "           3       0.92      0.65      0.76        37\n",
      "           4       0.97      0.92      0.94        37\n",
      "           5       0.84      1.00      0.91        37\n",
      "           6       1.00      0.95      0.97        37\n",
      "           7       0.90      0.97      0.93        36\n",
      "           8       0.68      0.76      0.71        33\n",
      "           9       0.74      0.84      0.78        37\n",
      "\n",
      "    accuracy                           0.88       360\n",
      "   macro avg       0.88      0.87      0.87       360\n",
      "weighted avg       0.88      0.88      0.87       360\n",
      "\n",
      "\n"
     ]
    }
   ],
   "source": [
    "print(f\"LOG-REG:{metrics.classification_report(y_test, y_pred)}\\n\")"
   ]
  },
  {
   "cell_type": "code",
   "execution_count": null,
   "metadata": {
    "colab": {
     "base_uri": "https://localhost:8080/",
     "height": 515
    },
    "executionInfo": {
     "elapsed": 731,
     "status": "ok",
     "timestamp": 1741788892112,
     "user": {
      "displayName": "Petr Kubera",
      "userId": "15227890022249397995"
     },
     "user_tz": -60
    },
    "id": "UXedSWAlr2kk",
    "outputId": "6d803d12-a223-40b9-f770-bb54583a1dd0"
   },
   "outputs": [
    {
     "data": {
      "text/plain": [
       "Text(0.5, 0.98, 'Confusion Matrix LOG REG')"
      ]
     },
     "execution_count": 43,
     "metadata": {},
     "output_type": "execute_result"
    },
    {
     "data": {
      "image/png": "[encoded data removed]",
      "text/plain": [
       "<Figure size 640x480 with 2 Axes>"
      ]
     },
     "metadata": {},
     "output_type": "display_data"
    }
   ],
   "source": [
    "from sklearn.metrics import confusion_matrix,  ConfusionMatrixDisplay\n",
    "disp = metrics.ConfusionMatrixDisplay.from_predictions(y_test, y_pred)\n",
    "disp.figure_.suptitle(\"Confusion Matrix LOG REG\")\n",
    "#disp.plot()\n",
    "\n",
    "# 8 s 9 se pletou\n",
    "# 8 s 5 se pletou"
   ]
  },
  {
   "cell_type": "code",
   "execution_count": 39,
   "metadata": {
    "colab": {
     "base_uri": "https://localhost:8080/"
    },
    "executionInfo": {
     "elapsed": 4000,
     "status": "ok",
     "timestamp": 1741788492838,
     "user": {
      "displayName": "Petr Kubera",
      "userId": "15227890022249397995"
     },
     "user_tz": -60
    },
    "id": "ZqRq-AqDqC5t",
    "outputId": "ce84d11a-cf2b-4a12-c99d-e3b7677f8b2c"
   },
   "outputs": [
    {
     "name": "stdout",
     "output_type": "stream",
     "text": [
      "KNN:              precision    recall  f1-score   support\n",
      "\n",
      "           0       1.00      1.00      1.00        35\n",
      "           1       0.95      1.00      0.97        36\n",
      "           2       1.00      1.00      1.00        35\n",
      "           3       0.97      0.86      0.91        37\n",
      "           4       1.00      0.92      0.96        37\n",
      "           5       0.90      1.00      0.95        37\n",
      "           6       1.00      1.00      1.00        37\n",
      "           7       0.97      1.00      0.99        36\n",
      "           8       0.91      0.94      0.93        33\n",
      "           9       0.94      0.92      0.93        37\n",
      "\n",
      "    accuracy                           0.96       360\n",
      "   macro avg       0.96      0.96      0.96       360\n",
      "weighted avg       0.97      0.96      0.96       360\n",
      "\n",
      "\n"
     ]
    }
   ],
   "source": [
    "def knn_klasifikuj(X,y,x, k=3):\n",
    "  \"\"\"\n",
    "  :param X: vstupni matice prvku, kazdy radek je jeden zaznam - trenovaci data\n",
    "  :param y: labely trenovacich dat\n",
    "  :param x: prvek ktery chceme klasifikovat\n",
    "  :param k: počet sousedů\n",
    "  :return: cislo tridy\n",
    "  \"\"\"\n",
    "  def vzdalenost(x,y):\n",
    "    return np.sum((x-y)**2)\n",
    "\n",
    "   # urceni tabulky vzdalenosti - ulozime vzdalenost od x a label pro kazdy prvek z X\n",
    "  tabulka = np.array([(vzdalenost(x,radek), label) for radek, label in zip(X[:],y)])\n",
    "  # nalezeni k-nejblizsich prvku. Podobny algoritmus jako pro selection sort.\n",
    "  for krok in range(k):\n",
    "    index = np.argmin(tabulka[krok:,0], axis=0)+krok\n",
    "    tabulka[[krok, index]]  =  tabulka[[index, krok]]\n",
    "  # urceni cetnosti labelu pro k nejblizsich sousedu - prvnich k v tabulce\n",
    "  cetnosti = {}\n",
    "  for label in tabulka[:k,1]:  # jed jen pres sloupecek labelu\n",
    "    if label in cetnosti:\n",
    "      cetnosti[label] += 1\n",
    "    else:\n",
    "      cetnosti[label] = 1\n",
    "  # vrat klic prislusejici nejcetnejsi hodnote\n",
    "  return int(sorted(cetnosti.items(), key = lambda kv: kv[1])[-1][0])\n",
    "\n",
    "y_pred_knn = [knn_klasifikuj(X_train,y_train,prvek) for prvek in X_test]\n",
    "print(f\"KNN:{metrics.classification_report(y_test, y_pred_knn)}\\n\")"
   ]
  },
  {
   "cell_type": "code",
   "execution_count": 44,
   "metadata": {
    "colab": {
     "base_uri": "https://localhost:8080/",
     "height": 515
    },
    "executionInfo": {
     "elapsed": 1257,
     "status": "ok",
     "timestamp": 1741788931805,
     "user": {
      "displayName": "Petr Kubera",
      "userId": "15227890022249397995"
     },
     "user_tz": -60
    },
    "id": "t6sSAiIPtaD9",
    "outputId": "719b2750-6552-4e37-bf66-b2d194428acc"
   },
   "outputs": [
    {
     "data": {
      "text/plain": [
       "Text(0.5, 0.98, 'Confusion Matrix KNN')"
      ]
     },
     "execution_count": 44,
     "metadata": {},
     "output_type": "execute_result"
    },
    {
     "data": {
      "image/png": "[encoded data removed]",
      "text/plain": [
       "<Figure size 640x480 with 2 Axes>"
      ]
     },
     "metadata": {},
     "output_type": "display_data"
    }
   ],
   "source": [
    "from sklearn.metrics import confusion_matrix,  ConfusionMatrixDisplay\n",
    "disp = metrics.ConfusionMatrixDisplay.from_predictions(y_test, y_pred_knn)\n",
    "disp.figure_.suptitle(\"Confusion Matrix KNN\")"
   ]
  },
  {
   "cell_type": "code",
   "execution_count": 6,
   "metadata": {},
   "outputs": [
    {
     "name": "stdout",
     "output_type": "stream",
     "text": [
      "Nejlepší parametry: {'classifier__C': 1, 'classifier__penalty': 'l2', 'classifier__solver': 'liblinear', 'scaler': StandardScaler()}\n",
      "Nejlepší křížové skóre: 0.9859605911330049\n"
     ]
    }
   ],
   "source": [
    "import pandas as pd\n",
    "from sklearn.datasets import load_wine\n",
    "from sklearn.model_selection import train_test_split, GridSearchCV\n",
    "from sklearn.pipeline import Pipeline\n",
    "from sklearn.preprocessing import MinMaxScaler, Normalizer, StandardScaler\n",
    "from sklearn.linear_model import LogisticRegression\n",
    "import warnings\n",
    "warnings.filterwarnings('ignore')\n",
    "\n",
    "seed = 42\n",
    "\n",
    "data = load_wine()\n",
    "X = pd.DataFrame(data.data, columns=data.feature_names)\n",
    "y = data.target\n",
    "\n",
    "X_train, X_test, y_train, y_test = train_test_split(X, y, test_size=0.2, random_state=seed)\n",
    "\n",
    "pipe = Pipeline([\n",
    "    ('scaler', StandardScaler()),\n",
    "    ('classifier', LogisticRegression())\n",
    "])\n",
    "\n",
    "param_grid = {\n",
    "    'scaler': [StandardScaler(), MinMaxScaler(), Normalizer()],\n",
    "    'classifier__C': [0.01, 0.1, 1, 10, 100],\n",
    "    'classifier__penalty': ['l1', 'l2'],\n",
    "    'classifier__solver': ['liblinear']\n",
    "}\n",
    "\n",
    "grid_search = GridSearchCV(pipe, param_grid, cv=5)\n",
    "grid_search.fit(X_train, y_train)\n",
    "\n",
    "print(\"Nejlepší parametry:\", grid_search.best_params_)\n",
    "print(\"Nejlepší křížové skóre:\", grid_search.best_score_)"
   ]
  }
 ],
 "metadata": {
  "colab": {
   "authorship_tag": "ABX9TyOtKe1ndVcd2VSeT3YhZo0c",
   "provenance": []
  },
  "kernelspec": {
   "display_name": "Python 3",
   "name": "python3"
  },
  "language_info": {
   "codemirror_mode": {
    "name": "ipython",
    "version": 3
   },
   "file_extension": ".py",
   "mimetype": "text/x-python",
   "name": "python",
   "nbconvert_exporter": "python",
   "pygments_lexer": "ipython3",
   "version": "3.10.0"
  }
 },
 "nbformat": 4,
 "nbformat_minor": 0
}
