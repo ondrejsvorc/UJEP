{
 "cells": [
  {
   "cell_type": "code",
   "execution_count": 15,
   "metadata": {},
   "outputs": [
    {
     "name": "stdout",
     "output_type": "stream",
     "text": [
      "[ 1.76430085 -4.96177873  7.39137096 -0.98274571 -0.68390077 10.83743644\n",
      "  6.84925201 18.74625439  1.05155805  2.01728816]\n"
     ]
    }
   ],
   "source": [
    "from sklearn.preprocessing import MinMaxScaler\n",
    "import pandas as pd\n",
    "import numpy as np\n",
    "\n",
    "df = pd.read_csv(\"http://lib.stat.cmu.edu/datasets/boston\", sep=\"\\s+\", skiprows=22, header=None)\n",
    "df.dropna(inplace=True)\n",
    "\n",
    "X = df.iloc[:, :-1]  # All columns except last as features\n",
    "y = df.iloc[:, -1]   # Last column as target variable\n",
    "\n",
    "scaler = MinMaxScaler()\n",
    "Xn = scaler.fit_transform(X)\n",
    "\n",
    "betas = np.linalg.solve(Xn.T @ Xn, Xn.T @ y) # Normal Equation\n",
    "print(betas)"
   ]
  }
 ],
 "metadata": {
  "kernelspec": {
   "display_name": "Python 3",
   "language": "python",
   "name": "python3"
  },
  "language_info": {
   "codemirror_mode": {
    "name": "ipython",
    "version": 3
   },
   "file_extension": ".py",
   "mimetype": "text/x-python",
   "name": "python",
   "nbconvert_exporter": "python",
   "pygments_lexer": "ipython3",
   "version": "3.10.0"
  }
 },
 "nbformat": 4,
 "nbformat_minor": 2
}
