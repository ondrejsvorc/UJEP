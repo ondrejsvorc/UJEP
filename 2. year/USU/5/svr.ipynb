{
 "cells": [
  {
   "cell_type": "code",
   "execution_count": 1,
   "id": "4827f5f6",
   "metadata": {},
   "outputs": [],
   "source": [
    "import numpy as np\n",
    "from cvxopt import matrix, solvers\n",
    "import matplotlib.pyplot as plt"
   ]
  },
  {
   "cell_type": "code",
   "execution_count": null,
   "id": "8562cf4f",
   "metadata": {},
   "outputs": [],
   "source": [
    "# w - sklon přímky\n",
    "# b - posun přímky\n",
    "# ξ⁺ - o kolik je bod nad ε\n",
    "# ξ⁻ - o kolik je bod pod −ε"
   ]
  },
  {
   "cell_type": "code",
   "execution_count": 2,
   "id": "c1f95749",
   "metadata": {},
   "outputs": [],
   "source": [
    "def create_model_SVR_primary(X, y, C=10.0, eps=1):\n",
    "    \"\"\"generuje matice pro knihovnu CVXOPT pro reseni SVR problemu\"\"\"\n",
    "    m, n = X.shape  # zjisti si rozmery\n",
    "    # m - pocet bodu\n",
    "    # n - dimenze\n",
    "    # generovani matic a vektoru pro ucelovou funkci\n",
    "    # generovani matice P - pro resic vstupuje jako matice prislusne kvadraticke formy\n",
    "    P = np.zeros((n + 1 + 2 * m, n + 1 + 2 * m))\n",
    "    for i in range(0, n):\n",
    "        P[i, i] = 1  # prepis 1 na diagonalu pro hodnoty w\n",
    "    # generovani vektoru q - vektor s koeficienty pro linearni cast ucelove funkce\n",
    "    q = C * np.ones(n + 1 + 2 * m)  # linearni clen v ucelove funkci soucet ksi\n",
    "    q[:n + 1] = 0  # nastav na nulu pozice w a b ve vektoru q\n",
    "    # generovani omezujicich podminek\n",
    "    h = np.concatenate((np.zeros((2 * m, 1)), np.zeros((2 * m, 1))))\n",
    "    G = np.zeros((4 * m, n + 1 + 2 * m))\n",
    "    for i, (x, y) in enumerate(zip(X, y)):  # pres vsechny datove body\n",
    "        # prvni omezeni\n",
    "        G[i, :n] = x  # sloupce odpovidajici w\n",
    "        G[i, n] = 1.  # sloupec odpovidajici b\n",
    "        G[i, n + 1 + i] = -1.  # sloupec ksi+\n",
    "        h[i] = y + eps\n",
    "        # druhe omezeni\n",
    "        G[i + m, :n] = -x  # sloupce odpovidajici w\n",
    "        G[i + m, n] = -1.  # sloupec odpovidajici b\n",
    "        G[i + m, n + 1 + i + m] = -1.  # sloupec ksi-\n",
    "        h[i + m] = -y + eps\n",
    "        # podminky nezapornosti ksi+\n",
    "        G[i + 2 * m, n + 1 + i] = -1.\n",
    "        # podminky nezapornosti ksi-\n",
    "        G[i + 3 * m, n + 1 + i + m] = -1.\n",
    "\n",
    "    print(f\"P:{P.shape}\")\n",
    "    print(f\"q:{q.shape}\")\n",
    "    print(f\"G:{G.shape}\")\n",
    "    print(f\"h:{h.shape}\")\n",
    "    return matrix(P), matrix(q), matrix(G), matrix(h)"
   ]
  }
 ],
 "metadata": {
  "kernelspec": {
   "display_name": "Python 3",
   "language": "python",
   "name": "python3"
  },
  "language_info": {
   "codemirror_mode": {
    "name": "ipython",
    "version": 3
   },
   "file_extension": ".py",
   "mimetype": "text/x-python",
   "name": "python",
   "nbconvert_exporter": "python",
   "pygments_lexer": "ipython3",
   "version": "3.10.0"
  }
 },
 "nbformat": 4,
 "nbformat_minor": 5
}
